{
  "nbformat": 4,
  "nbformat_minor": 0,
  "metadata": {
    "kernelspec": {
      "display_name": "Python 3",
      "language": "python",
      "name": "python3"
    },
    "language_info": {
      "codemirror_mode": {
        "name": "ipython",
        "version": 3
      },
      "file_extension": ".py",
      "mimetype": "text/x-python",
      "name": "python",
      "nbconvert_exporter": "python",
      "pygments_lexer": "ipython3",
      "version": "3.7.3"
    },
    "colab": {
      "name": "Kevin_Weatherwalks_LS_DS_213_assignment.ipynb",
      "provenance": [],
      "collapsed_sections": [],
      "include_colab_link": true
    }
  },
  "cells": [
    {
      "cell_type": "markdown",
      "metadata": {
        "id": "view-in-github",
        "colab_type": "text"
      },
      "source": [
        "<a href=\"https://colab.research.google.com/github/KWeatherwalks/DS-Unit-2-Linear-Models/blob/master/module3-ridge-regression/Kevin_Weatherwalks_LS_DS_213_assignment.ipynb\" target=\"_parent\"><img src=\"https://colab.research.google.com/assets/colab-badge.svg\" alt=\"Open In Colab\"/></a>"
      ]
    },
    {
      "cell_type": "markdown",
      "metadata": {
        "id": "ZL6Hy7d1W43m"
      },
      "source": [
        "Lambda School Data Science\n",
        "\n",
        "*Unit 2, Sprint 1, Module 3*\n",
        "\n",
        "---"
      ]
    },
    {
      "cell_type": "markdown",
      "metadata": {
        "id": "7IXUfiQ2UKj6"
      },
      "source": [
        "# Ridge Regression\n",
        "\n",
        "## Assignment\n",
        "\n",
        "We're going back to our other **New York City** real estate dataset. Instead of predicting apartment rents, you'll predict property sales prices.\n",
        "\n",
        "But not just for condos in Tribeca...\n",
        "\n",
        "- [ ] Use a subset of the data where `BUILDING_CLASS_CATEGORY` == `'01 ONE FAMILY DWELLINGS'` and the sale price was more than 100 thousand and less than 2 million.\n",
        "- [ ] Do train/test split. Use data from January — March 2019 to train. Use data from April 2019 to test.\n",
        "- [ ] Do one-hot encoding of categorical features.\n",
        "- [ ] Do feature selection with `SelectKBest`.\n",
        "- [ ] Fit a ridge regression model with multiple features. Use the `normalize=True` parameter (or do [feature scaling](https://scikit-learn.org/stable/modules/preprocessing.html) beforehand — use the scaler's `fit_transform` method with the train set, and the scaler's `transform` method with the test set)\n",
        "- [ ] Get mean absolute error for the test set.\n",
        "- [ ] As always, commit your notebook to your fork of the GitHub repo.\n",
        "\n",
        "The [NYC Department of Finance](https://www1.nyc.gov/site/finance/taxes/property-rolling-sales-data.page) has a glossary of property sales terms and NYC Building Class Code Descriptions. The data comes from the [NYC OpenData](https://data.cityofnewyork.us/browse?q=NYC%20calendar%20sales) portal.\n",
        "\n",
        "\n",
        "## Stretch Goals\n",
        "\n",
        "Don't worry, you aren't expected to do all these stretch goals! These are just ideas to consider and choose from.\n",
        "\n",
        "- [ ] Add your own stretch goal(s) !\n",
        "- [ ] Instead of `Ridge`, try `LinearRegression`. Depending on how many features you select, your errors will probably blow up! 💥\n",
        "- [ ] Instead of `Ridge`, try [`RidgeCV`](https://scikit-learn.org/stable/modules/generated/sklearn.linear_model.RidgeCV.html).\n",
        "- [ ] Learn more about feature selection:\n",
        "    - [\"Permutation importance\"](https://www.kaggle.com/dansbecker/permutation-importance)\n",
        "    - [scikit-learn's User Guide for Feature Selection](https://scikit-learn.org/stable/modules/feature_selection.html)\n",
        "    - [mlxtend](http://rasbt.github.io/mlxtend/) library\n",
        "    - scikit-learn-contrib libraries: [boruta_py](https://github.com/scikit-learn-contrib/boruta_py) & [stability-selection](https://github.com/scikit-learn-contrib/stability-selection)\n",
        "    - [_Feature Engineering and Selection_](http://www.feat.engineering/) by Kuhn & Johnson.\n",
        "- [ ] Try [statsmodels](https://www.statsmodels.org/stable/index.html) if you’re interested in more inferential statistical approach to linear regression and feature selection, looking at p values and 95% confidence intervals for the coefficients.\n",
        "- [ ] Read [_An Introduction to Statistical Learning_](http://faculty.marshall.usc.edu/gareth-james/ISL/ISLR%20Seventh%20Printing.pdf), Chapters 1-3, for more math & theory, but in an accessible, readable way.\n",
        "- [ ] Try [scikit-learn pipelines](https://scikit-learn.org/stable/modules/compose.html)."
      ]
    },
    {
      "cell_type": "code",
      "metadata": {
        "id": "o9eSnDYhUGD7"
      },
      "source": [
        "%%capture\n",
        "import sys\n",
        "\n",
        "# If you're on Colab:\n",
        "if 'google.colab' in sys.modules:\n",
        "    DATA_PATH = 'https://raw.githubusercontent.com/LambdaSchool/DS-Unit-2-Applied-Modeling/master/data/'\n",
        "    !pip install category_encoders==2.*\n",
        "\n",
        "# If you're working locally:\n",
        "else:\n",
        "    DATA_PATH = '../data/'\n",
        "    \n",
        "# Ignore this Numpy warning when using Plotly Express:\n",
        "# FutureWarning: Method .ptp is deprecated and will be removed in a future version. Use numpy.ptp instead.\n",
        "import warnings\n",
        "warnings.filterwarnings(action='ignore', category=FutureWarning, module='numpy')\n",
        "warnings.filterwarnings(action='ignore', category=FutureWarning, module='category_encoder')\n",
        "warnings.filterwarnings(action='ignore', category=UserWarning, module='sklearn')\n",
        "warnings.filterwarnings(action='ignore', category=RuntimeWarning, module='sklearn')"
      ],
      "execution_count": 1,
      "outputs": []
    },
    {
      "cell_type": "markdown",
      "metadata": {
        "id": "VgOqwgn7QXZw"
      },
      "source": [
        "# I. Wrangle Data"
      ]
    },
    {
      "cell_type": "code",
      "metadata": {
        "id": "QJBD4ruICm1m"
      },
      "source": [
        "import pandas as pd\n",
        "import pandas_profiling\n",
        "import numpy as np\n",
        "\n",
        "def wrangle(filepath):\n",
        "  # Read New York City property sales data\n",
        "  df = pd.read_csv(filepath, parse_dates=['SALE DATE','YEAR BUILT'],\n",
        "                   infer_datetime_format=True,\n",
        "                   index_col='SALE DATE',\n",
        "                   dtype={'BLOCK': object,\n",
        "                          'LOT': object}\n",
        "                   )\n",
        "\n",
        "  # Change column names: replace spaces with underscores\n",
        "  df.columns = [col.replace(' ', '_') for col in df]\n",
        "  df.index.name = df.index.name.replace(' ', '_')\n",
        "\n",
        "\n",
        "  # SALE_PRICE was read as strings.\n",
        "  # Remove symbols, convert to integer\n",
        "  df['SALE_PRICE'] = (\n",
        "      df['SALE_PRICE']\n",
        "      .str.replace('$','')\n",
        "      .str.replace('-','')\n",
        "      .str.replace(',','')\n",
        "      .astype(int)\n",
        "  )\n",
        "  # LAND_SQUARE_FEET is a string\n",
        "  # Remove symbols, empty strings, convert to float\n",
        "  df['LAND_SQUARE_FEET'] = (\n",
        "      df['LAND_SQUARE_FEET']\n",
        "      .str.replace(',','')\n",
        "      .str.replace('#','')\n",
        "      .apply(lambda x: 0 if len(str(x))==0 else x)\n",
        "      .astype(float)\n",
        "  )\n",
        "\n",
        "  # Subset data\n",
        "  condition = (\n",
        "      (df['BUILDING_CLASS_CATEGORY']=='01 ONE FAMILY DWELLINGS') &\n",
        "      (df['SALE_PRICE'] > 100_000) & (df['SALE_PRICE']<2_000_000)\n",
        "               )\n",
        "  df = df[condition]\n",
        "\n",
        "  # BOROUGH is a numeric column, but arguably should be a categorical feature,\n",
        "  # so convert it from a number to a string\n",
        "  df['BOROUGH'] = df['BOROUGH'].astype(str)\n",
        "\n",
        "  # Reduce cardinality for NEIGHBORHOOD feature\n",
        "\n",
        "  # Get a list of the top 10 neighborhoods\n",
        "  top10 = df['NEIGHBORHOOD'].value_counts()[:10].index\n",
        "\n",
        "  # At locations where the neighborhood is NOT in the top 10, \n",
        "  # replace the neighborhood with 'OTHER'\n",
        "  df.loc[~df['NEIGHBORHOOD'].isin(top10), 'NEIGHBORHOOD'] = 'OTHER'\n",
        "  \n",
        "\n",
        "  # Drop columns with null data\n",
        "  df.drop(columns=['APARTMENT_NUMBER', 'EASE-MENT'], inplace=True)\n",
        "\n",
        "  # Drop columns with too many categories\n",
        "  drop_cols = [col for col in df.select_dtypes('object') if df[col].nunique() > 15]\n",
        "  df.drop(columns=drop_cols, inplace=True)\n",
        "\n",
        "  return df"
      ],
      "execution_count": 2,
      "outputs": []
    },
    {
      "cell_type": "code",
      "metadata": {
        "id": "FY9mC5rrKpLA"
      },
      "source": [
        "FILE_PATH = DATA_PATH+'condos/NYC_Citywide_Rolling_Calendar_Sales.csv'\n",
        "df = wrangle(FILE_PATH)"
      ],
      "execution_count": 3,
      "outputs": []
    },
    {
      "cell_type": "code",
      "metadata": {
        "colab": {
          "base_uri": "https://localhost:8080/"
        },
        "id": "vx9-U8JjQjbh",
        "outputId": "e321f324-2e4e-45cb-dead-4fdca79e53ea"
      },
      "source": [
        "df.info()"
      ],
      "execution_count": 4,
      "outputs": [
        {
          "output_type": "stream",
          "text": [
            "<class 'pandas.core.frame.DataFrame'>\n",
            "DatetimeIndex: 3151 entries, 2019-01-01 to 2019-04-30\n",
            "Data columns (total 14 columns):\n",
            " #   Column                          Non-Null Count  Dtype  \n",
            "---  ------                          --------------  -----  \n",
            " 0   BOROUGH                         3151 non-null   object \n",
            " 1   NEIGHBORHOOD                    3151 non-null   object \n",
            " 2   BUILDING_CLASS_CATEGORY         3151 non-null   object \n",
            " 3   TAX_CLASS_AT_PRESENT            3151 non-null   object \n",
            " 4   BUILDING_CLASS_AT_PRESENT       3151 non-null   object \n",
            " 5   ZIP_CODE                        3151 non-null   float64\n",
            " 6   RESIDENTIAL_UNITS               3151 non-null   float64\n",
            " 7   COMMERCIAL_UNITS                3151 non-null   float64\n",
            " 8   TOTAL_UNITS                     3151 non-null   float64\n",
            " 9   LAND_SQUARE_FEET                3151 non-null   float64\n",
            " 10  GROSS_SQUARE_FEET               3151 non-null   float64\n",
            " 11  TAX_CLASS_AT_TIME_OF_SALE       3151 non-null   int64  \n",
            " 12  BUILDING_CLASS_AT_TIME_OF_SALE  3151 non-null   object \n",
            " 13  SALE_PRICE                      3151 non-null   int64  \n",
            "dtypes: float64(6), int64(2), object(6)\n",
            "memory usage: 369.3+ KB\n"
          ],
          "name": "stdout"
        }
      ]
    },
    {
      "cell_type": "code",
      "metadata": {
        "colab": {
          "base_uri": "https://localhost:8080/",
          "height": 162
        },
        "id": "j6PeWCCca-b2",
        "outputId": "9cb8025d-cdcc-46fd-bcb6-d22cb51c1aed"
      },
      "source": [
        "df.select_dtypes(include='object').sample(3)"
      ],
      "execution_count": 5,
      "outputs": [
        {
          "output_type": "execute_result",
          "data": {
            "text/html": [
              "<div>\n",
              "<style scoped>\n",
              "    .dataframe tbody tr th:only-of-type {\n",
              "        vertical-align: middle;\n",
              "    }\n",
              "\n",
              "    .dataframe tbody tr th {\n",
              "        vertical-align: top;\n",
              "    }\n",
              "\n",
              "    .dataframe thead th {\n",
              "        text-align: right;\n",
              "    }\n",
              "</style>\n",
              "<table border=\"1\" class=\"dataframe\">\n",
              "  <thead>\n",
              "    <tr style=\"text-align: right;\">\n",
              "      <th></th>\n",
              "      <th>BOROUGH</th>\n",
              "      <th>NEIGHBORHOOD</th>\n",
              "      <th>BUILDING_CLASS_CATEGORY</th>\n",
              "      <th>TAX_CLASS_AT_PRESENT</th>\n",
              "      <th>BUILDING_CLASS_AT_PRESENT</th>\n",
              "      <th>BUILDING_CLASS_AT_TIME_OF_SALE</th>\n",
              "    </tr>\n",
              "    <tr>\n",
              "      <th>SALE_DATE</th>\n",
              "      <th></th>\n",
              "      <th></th>\n",
              "      <th></th>\n",
              "      <th></th>\n",
              "      <th></th>\n",
              "      <th></th>\n",
              "    </tr>\n",
              "  </thead>\n",
              "  <tbody>\n",
              "    <tr>\n",
              "      <th>2019-01-02</th>\n",
              "      <td>5</td>\n",
              "      <td>OTHER</td>\n",
              "      <td>01 ONE FAMILY DWELLINGS</td>\n",
              "      <td>1</td>\n",
              "      <td>A2</td>\n",
              "      <td>A2</td>\n",
              "    </tr>\n",
              "    <tr>\n",
              "      <th>2019-02-27</th>\n",
              "      <td>3</td>\n",
              "      <td>OTHER</td>\n",
              "      <td>01 ONE FAMILY DWELLINGS</td>\n",
              "      <td>1</td>\n",
              "      <td>A1</td>\n",
              "      <td>A1</td>\n",
              "    </tr>\n",
              "    <tr>\n",
              "      <th>2019-04-11</th>\n",
              "      <td>4</td>\n",
              "      <td>OTHER</td>\n",
              "      <td>01 ONE FAMILY DWELLINGS</td>\n",
              "      <td>1</td>\n",
              "      <td>A1</td>\n",
              "      <td>A1</td>\n",
              "    </tr>\n",
              "  </tbody>\n",
              "</table>\n",
              "</div>"
            ],
            "text/plain": [
              "           BOROUGH  ... BUILDING_CLASS_AT_TIME_OF_SALE\n",
              "SALE_DATE           ...                               \n",
              "2019-01-02       5  ...                             A2\n",
              "2019-02-27       3  ...                             A1\n",
              "2019-04-11       4  ...                             A1\n",
              "\n",
              "[3 rows x 6 columns]"
            ]
          },
          "metadata": {
            "tags": []
          },
          "execution_count": 5
        }
      ]
    },
    {
      "cell_type": "code",
      "metadata": {
        "colab": {
          "base_uri": "https://localhost:8080/"
        },
        "id": "DPpsJQFJqGtV",
        "outputId": "05747a5a-d611-4b1e-fa33-b7ebb48b8c57"
      },
      "source": [
        "df.select_dtypes(include='object').nunique()"
      ],
      "execution_count": 6,
      "outputs": [
        {
          "output_type": "execute_result",
          "data": {
            "text/plain": [
              "BOROUGH                            5\n",
              "NEIGHBORHOOD                      11\n",
              "BUILDING_CLASS_CATEGORY            1\n",
              "TAX_CLASS_AT_PRESENT               2\n",
              "BUILDING_CLASS_AT_PRESENT         13\n",
              "BUILDING_CLASS_AT_TIME_OF_SALE    11\n",
              "dtype: int64"
            ]
          },
          "metadata": {
            "tags": []
          },
          "execution_count": 6
        }
      ]
    },
    {
      "cell_type": "code",
      "metadata": {
        "colab": {
          "base_uri": "https://localhost:8080/",
          "height": 162
        },
        "id": "XSxBS2VGnD82",
        "outputId": "38e0c5db-eb86-4f76-91a3-a99ab1135170"
      },
      "source": [
        "df.select_dtypes(include='number').sample(3)"
      ],
      "execution_count": 7,
      "outputs": [
        {
          "output_type": "execute_result",
          "data": {
            "text/html": [
              "<div>\n",
              "<style scoped>\n",
              "    .dataframe tbody tr th:only-of-type {\n",
              "        vertical-align: middle;\n",
              "    }\n",
              "\n",
              "    .dataframe tbody tr th {\n",
              "        vertical-align: top;\n",
              "    }\n",
              "\n",
              "    .dataframe thead th {\n",
              "        text-align: right;\n",
              "    }\n",
              "</style>\n",
              "<table border=\"1\" class=\"dataframe\">\n",
              "  <thead>\n",
              "    <tr style=\"text-align: right;\">\n",
              "      <th></th>\n",
              "      <th>ZIP_CODE</th>\n",
              "      <th>RESIDENTIAL_UNITS</th>\n",
              "      <th>COMMERCIAL_UNITS</th>\n",
              "      <th>TOTAL_UNITS</th>\n",
              "      <th>LAND_SQUARE_FEET</th>\n",
              "      <th>GROSS_SQUARE_FEET</th>\n",
              "      <th>TAX_CLASS_AT_TIME_OF_SALE</th>\n",
              "      <th>SALE_PRICE</th>\n",
              "    </tr>\n",
              "    <tr>\n",
              "      <th>SALE_DATE</th>\n",
              "      <th></th>\n",
              "      <th></th>\n",
              "      <th></th>\n",
              "      <th></th>\n",
              "      <th></th>\n",
              "      <th></th>\n",
              "      <th></th>\n",
              "      <th></th>\n",
              "    </tr>\n",
              "  </thead>\n",
              "  <tbody>\n",
              "    <tr>\n",
              "      <th>2019-03-12</th>\n",
              "      <td>11234.0</td>\n",
              "      <td>1.0</td>\n",
              "      <td>0.0</td>\n",
              "      <td>1.0</td>\n",
              "      <td>2000.0</td>\n",
              "      <td>1110.0</td>\n",
              "      <td>1</td>\n",
              "      <td>635000</td>\n",
              "    </tr>\n",
              "    <tr>\n",
              "      <th>2019-02-21</th>\n",
              "      <td>10310.0</td>\n",
              "      <td>1.0</td>\n",
              "      <td>0.0</td>\n",
              "      <td>1.0</td>\n",
              "      <td>7500.0</td>\n",
              "      <td>1260.0</td>\n",
              "      <td>1</td>\n",
              "      <td>625000</td>\n",
              "    </tr>\n",
              "    <tr>\n",
              "      <th>2019-01-11</th>\n",
              "      <td>10465.0</td>\n",
              "      <td>1.0</td>\n",
              "      <td>0.0</td>\n",
              "      <td>1.0</td>\n",
              "      <td>2500.0</td>\n",
              "      <td>2140.0</td>\n",
              "      <td>1</td>\n",
              "      <td>570000</td>\n",
              "    </tr>\n",
              "  </tbody>\n",
              "</table>\n",
              "</div>"
            ],
            "text/plain": [
              "            ZIP_CODE  RESIDENTIAL_UNITS  ...  TAX_CLASS_AT_TIME_OF_SALE  SALE_PRICE\n",
              "SALE_DATE                                ...                                       \n",
              "2019-03-12   11234.0                1.0  ...                          1      635000\n",
              "2019-02-21   10310.0                1.0  ...                          1      625000\n",
              "2019-01-11   10465.0                1.0  ...                          1      570000\n",
              "\n",
              "[3 rows x 8 columns]"
            ]
          },
          "metadata": {
            "tags": []
          },
          "execution_count": 7
        }
      ]
    },
    {
      "cell_type": "markdown",
      "metadata": {
        "id": "t8KTwXbARhip"
      },
      "source": [
        "# II. Split Data"
      ]
    },
    {
      "cell_type": "code",
      "metadata": {
        "id": "VihobMVmf6RN"
      },
      "source": [
        "# Split data into X matrix and y vector\n",
        "target = 'SALE_PRICE'\n",
        "y = df[target]\n",
        "X = df.drop(columns=[target])"
      ],
      "execution_count": 8,
      "outputs": []
    },
    {
      "cell_type": "code",
      "metadata": {
        "id": "boMU678ARjhb"
      },
      "source": [
        "# Split data into training and test sets\n",
        "train_mask = (df.index >= '2019-01') & (df.index < '2019-04')\n",
        "test_mask = (df.index >= '2019-04') & (df.index < '2019-05')\n",
        "X_train, y_train = X[train_mask], y[train_mask]\n",
        "X_test, y_test = X[test_mask], y[test_mask]"
      ],
      "execution_count": 9,
      "outputs": []
    },
    {
      "cell_type": "markdown",
      "metadata": {
        "id": "ajtT7SH3RmmM"
      },
      "source": [
        "# III. Establish Baseline"
      ]
    },
    {
      "cell_type": "code",
      "metadata": {
        "colab": {
          "base_uri": "https://localhost:8080/"
        },
        "id": "UE07ov-LRpgD",
        "outputId": "2a84a586-952a-4e39-97e2-3bf448f85ef3"
      },
      "source": [
        "from sklearn.metrics import mean_absolute_error, mean_squared_error\n",
        "\n",
        "y_mean = [y_test.mean()] * len(y_test)\n",
        "y_median = [y_test.median()] * len(y_test)\n",
        "\n",
        "print('Mean Price MAE:', mean_absolute_error(y_test, y_mean))\n",
        "print('Median Price MAE:', mean_absolute_error(y_test, y_median))"
      ],
      "execution_count": 10,
      "outputs": [
        {
          "output_type": "stream",
          "text": [
            "Mean Price MAE: 216602.40811504182\n",
            "Median Price MAE: 210659.02639751552\n"
          ],
          "name": "stdout"
        }
      ]
    },
    {
      "cell_type": "markdown",
      "metadata": {
        "id": "Ivf1zx0BRp6i"
      },
      "source": [
        "# IV. Build Model"
      ]
    },
    {
      "cell_type": "code",
      "metadata": {
        "id": "WDhF2qZ_Ru9p",
        "colab": {
          "base_uri": "https://localhost:8080/"
        },
        "outputId": "3978ff30-d7d6-4e2e-c83c-99ce46239138"
      },
      "source": [
        "# Import classes\n",
        "from sklearn.linear_model import LinearRegression, Ridge, RidgeCV\n",
        "from category_encoders import OneHotEncoder\n",
        "from sklearn.feature_selection import SelectKBest"
      ],
      "execution_count": 11,
      "outputs": [
        {
          "output_type": "stream",
          "text": [
            "/usr/local/lib/python3.6/dist-packages/statsmodels/tools/_testing.py:19: FutureWarning: pandas.util.testing is deprecated. Use the functions in the public API at pandas.testing instead.\n",
            "  import pandas.util.testing as tm\n"
          ],
          "name": "stderr"
        }
      ]
    },
    {
      "cell_type": "code",
      "metadata": {
        "id": "g9yFAxtdjvbk"
      },
      "source": [
        "# One-hot encoding\n",
        "ohe = OneHotEncoder(use_cat_names=True)\n",
        "feature_selector = SelectKBest(k=2)\n",
        "\n",
        "# Fit OHE to training data\n",
        "ohe.fit(X_train)\n",
        "ohe.fit(X_test)\n",
        "# Transform data for feature selection\n",
        "XT_train = ohe.transform(X_train)\n",
        "XT_test = ohe.transform(X_test)\n",
        "\n",
        "# Select k best features\n",
        "feature_selector.fit(XT_train, y_train)\n",
        "\n",
        "# Transform data for regression\n",
        "XTT_train = feature_selector.transform(XT_train)\n",
        "XTT_test = feature_selector.transform(XT_test)"
      ],
      "execution_count": 12,
      "outputs": []
    },
    {
      "cell_type": "code",
      "metadata": {
        "colab": {
          "base_uri": "https://localhost:8080/"
        },
        "id": "9bRq8DUYtrZe",
        "outputId": "6af5e772-9ee9-48a2-83f5-213609952d2b"
      },
      "source": [
        "XT_train.info()"
      ],
      "execution_count": 13,
      "outputs": [
        {
          "output_type": "stream",
          "text": [
            "<class 'pandas.core.frame.DataFrame'>\n",
            "DatetimeIndex: 2507 entries, 2019-01-01 to 2019-03-30\n",
            "Data columns (total 47 columns):\n",
            " #   Column                                           Non-Null Count  Dtype  \n",
            "---  ------                                           --------------  -----  \n",
            " 0   BOROUGH_2                                        2507 non-null   int64  \n",
            " 1   BOROUGH_3                                        2507 non-null   int64  \n",
            " 2   BOROUGH_4                                        2507 non-null   int64  \n",
            " 3   BOROUGH_5                                        2507 non-null   int64  \n",
            " 4   BOROUGH_1                                        2507 non-null   int64  \n",
            " 5   NEIGHBORHOOD_OTHER                               2507 non-null   int64  \n",
            " 6   NEIGHBORHOOD_FLUSHING-SOUTH                      2507 non-null   int64  \n",
            " 7   NEIGHBORHOOD_QUEENS VILLAGE                      2507 non-null   int64  \n",
            " 8   NEIGHBORHOOD_SO. JAMAICA-BAISLEY PARK            2507 non-null   int64  \n",
            " 9   NEIGHBORHOOD_SPRINGFIELD GARDENS                 2507 non-null   int64  \n",
            " 10  NEIGHBORHOOD_BAYSIDE                             2507 non-null   int64  \n",
            " 11  NEIGHBORHOOD_FLUSHING-NORTH                      2507 non-null   int64  \n",
            " 12  NEIGHBORHOOD_LAURELTON                           2507 non-null   int64  \n",
            " 13  NEIGHBORHOOD_SOUTH OZONE PARK                    2507 non-null   int64  \n",
            " 14  NEIGHBORHOOD_ST. ALBANS                          2507 non-null   int64  \n",
            " 15  NEIGHBORHOOD_GREAT KILLS                         2507 non-null   int64  \n",
            " 16  BUILDING_CLASS_CATEGORY_01 ONE FAMILY DWELLINGS  2507 non-null   int64  \n",
            " 17  TAX_CLASS_AT_PRESENT_1                           2507 non-null   int64  \n",
            " 18  TAX_CLASS_AT_PRESENT_1D                          2507 non-null   int64  \n",
            " 19  BUILDING_CLASS_AT_PRESENT_A1                     2507 non-null   int64  \n",
            " 20  BUILDING_CLASS_AT_PRESENT_A2                     2507 non-null   int64  \n",
            " 21  BUILDING_CLASS_AT_PRESENT_A5                     2507 non-null   int64  \n",
            " 22  BUILDING_CLASS_AT_PRESENT_A9                     2507 non-null   int64  \n",
            " 23  BUILDING_CLASS_AT_PRESENT_A8                     2507 non-null   int64  \n",
            " 24  BUILDING_CLASS_AT_PRESENT_A0                     2507 non-null   int64  \n",
            " 25  BUILDING_CLASS_AT_PRESENT_B2                     2507 non-null   int64  \n",
            " 26  BUILDING_CLASS_AT_PRESENT_S1                     2507 non-null   int64  \n",
            " 27  BUILDING_CLASS_AT_PRESENT_A6                     2507 non-null   int64  \n",
            " 28  BUILDING_CLASS_AT_PRESENT_A4                     2507 non-null   int64  \n",
            " 29  BUILDING_CLASS_AT_PRESENT_A3                     2507 non-null   int64  \n",
            " 30  ZIP_CODE                                         2507 non-null   float64\n",
            " 31  RESIDENTIAL_UNITS                                2507 non-null   float64\n",
            " 32  COMMERCIAL_UNITS                                 2507 non-null   float64\n",
            " 33  TOTAL_UNITS                                      2507 non-null   float64\n",
            " 34  LAND_SQUARE_FEET                                 2507 non-null   float64\n",
            " 35  GROSS_SQUARE_FEET                                2507 non-null   float64\n",
            " 36  TAX_CLASS_AT_TIME_OF_SALE                        2507 non-null   int64  \n",
            " 37  BUILDING_CLASS_AT_TIME_OF_SALE_A1                2507 non-null   int64  \n",
            " 38  BUILDING_CLASS_AT_TIME_OF_SALE_A2                2507 non-null   int64  \n",
            " 39  BUILDING_CLASS_AT_TIME_OF_SALE_A5                2507 non-null   int64  \n",
            " 40  BUILDING_CLASS_AT_TIME_OF_SALE_A9                2507 non-null   int64  \n",
            " 41  BUILDING_CLASS_AT_TIME_OF_SALE_A8                2507 non-null   int64  \n",
            " 42  BUILDING_CLASS_AT_TIME_OF_SALE_A0                2507 non-null   int64  \n",
            " 43  BUILDING_CLASS_AT_TIME_OF_SALE_S1                2507 non-null   int64  \n",
            " 44  BUILDING_CLASS_AT_TIME_OF_SALE_A6                2507 non-null   int64  \n",
            " 45  BUILDING_CLASS_AT_TIME_OF_SALE_A4                2507 non-null   int64  \n",
            " 46  BUILDING_CLASS_AT_TIME_OF_SALE_A3                2507 non-null   int64  \n",
            "dtypes: float64(6), int64(41)\n",
            "memory usage: 940.1 KB\n"
          ],
          "name": "stdout"
        }
      ]
    },
    {
      "cell_type": "code",
      "metadata": {
        "colab": {
          "base_uri": "https://localhost:8080/"
        },
        "id": "d3qC8Iw0tvXr",
        "outputId": "7848c6c0-54cd-4c2f-dd6d-57440e07a76c"
      },
      "source": [
        "XTT_train.shape"
      ],
      "execution_count": 14,
      "outputs": [
        {
          "output_type": "execute_result",
          "data": {
            "text/plain": [
              "(2507, 2)"
            ]
          },
          "metadata": {
            "tags": []
          },
          "execution_count": 14
        }
      ]
    },
    {
      "cell_type": "code",
      "metadata": {
        "colab": {
          "base_uri": "https://localhost:8080/"
        },
        "id": "ovauPCnquA4n",
        "outputId": "8a6149a3-21d1-455d-b2ce-30cf68da5985"
      },
      "source": [
        "# Build Regression Models\n",
        "model_linear = LinearRegression()\n",
        "model_ridge = Ridge(alpha=2.0)\n",
        "model_ridgeCV = RidgeCV(alphas=(0.1,1.0,10.0))\n",
        "\n",
        "# Fit models\n",
        "model_linear.fit(XTT_train, y_train)\n",
        "model_ridge.fit(XTT_train, y_train)\n",
        "model_ridgeCV.fit(XTT_train, y_train)"
      ],
      "execution_count": 15,
      "outputs": [
        {
          "output_type": "execute_result",
          "data": {
            "text/plain": [
              "RidgeCV(alphas=array([ 0.1,  1. , 10. ]), cv=None, fit_intercept=True,\n",
              "        gcv_mode=None, normalize=False, scoring=None, store_cv_values=False)"
            ]
          },
          "metadata": {
            "tags": []
          },
          "execution_count": 15
        }
      ]
    },
    {
      "cell_type": "markdown",
      "metadata": {
        "id": "cfMv5uAzRuAc"
      },
      "source": [
        "# V. Check Metrics"
      ]
    },
    {
      "cell_type": "code",
      "metadata": {
        "id": "q5rZrc58NMAI"
      },
      "source": [
        "def display_score(text, score):\n",
        "  score = round(score, 2)\n",
        "  output = '{}:\\t {:>13.2f}'.format(text, score)\n",
        "  print(output)\n",
        "  return None"
      ],
      "execution_count": 16,
      "outputs": []
    },
    {
      "cell_type": "code",
      "metadata": {
        "colab": {
          "base_uri": "https://localhost:8080/"
        },
        "id": "pj1lOQahRxDM",
        "outputId": "9d05c1af-a262-4f53-e00b-1e73e5747844"
      },
      "source": [
        "# Baseline Stats\n",
        "print(10*'-' + 'Baseline Metrics' + 10*'-')\n",
        "print('Mean Price MAE:\\t ', round(mean_absolute_error(y_test, y_mean),2))\n",
        "print('Median Price MAE:', round(mean_absolute_error(y_test, y_median),2))\n",
        "print()\n",
        "\n",
        "print(10*'-' + 'Linear Regression Metrics' + 10*'-')\n",
        "display_score('Train MAE', \n",
        "              mean_absolute_error(y_train, model_linear.predict(XTT_train)))\n",
        "display_score('Test MAE', mean_absolute_error(y_test, \n",
        "                                              model_linear.predict(XTT_test)))\n",
        "display_score('Train RMSE:', \n",
        "              mean_squared_error(y_train, \n",
        "                                 model_linear.predict(XTT_train),\n",
        "                                 squared=False))\n",
        "display_score('Test RMSE', \n",
        "              mean_squared_error(y_test, \n",
        "                                 model_linear.predict(XTT_test),\n",
        "                                 squared=False))\n",
        "\n",
        "print(10*'-' + 'Ridge Regression Metrics' + 10*'-')\n",
        "display_score('Train MAE', \n",
        "              mean_absolute_error(y_train, \n",
        "                                  model_ridge.predict(XTT_train)))\n",
        "display_score('Test MAE', \n",
        "              mean_absolute_error(y_test, \n",
        "                                  model_ridge.predict(XTT_test)))\n",
        "display_score('Train RMSE', \n",
        "              mean_squared_error(y_train, \n",
        "                                 model_ridge.predict(XTT_train),\n",
        "                                 squared=False))\n",
        "display_score('Test RMSE', \n",
        "              mean_squared_error(y_test, \n",
        "                                 model_ridge.predict(XTT_test),\n",
        "                                 squared=False))\n",
        "\n",
        "print(10*'-' + 'RidgeCV Metrics' + 10*'-')\n",
        "display_score('Train MAE', \n",
        "              mean_absolute_error(y_train, \n",
        "                                  model_ridgeCV.predict(XTT_train)))\n",
        "display_score('Test MAE', \n",
        "              mean_absolute_error(y_test, \n",
        "                                  model_ridgeCV.predict(XTT_test)))\n",
        "display_score('Train RMSE:', \n",
        "              mean_squared_error(y_train, \n",
        "                                 model_ridgeCV.predict(XTT_train),\n",
        "                                 squared=False))\n",
        "display_score('Test RMSE', \n",
        "              mean_squared_error(y_test, \n",
        "                                 model_ridgeCV.predict(XTT_test),\n",
        "                                 squared=False))"
      ],
      "execution_count": 18,
      "outputs": [
        {
          "output_type": "stream",
          "text": [
            "----------Baseline Metrics----------\n",
            "Mean Price MAE:\t  216602.41\n",
            "Median Price MAE: 210659.03\n",
            "\n",
            "----------Linear Regression Metrics----------\n",
            "Train MAE:\t     209218.29\n",
            "Test MAE:\t     206567.01\n",
            "Train RMSE::\t     282587.20\n",
            "Test RMSE:\t     291771.72\n",
            "----------Ridge Regression Metrics----------\n",
            "Train MAE:\t     209420.27\n",
            "Test MAE:\t     206731.46\n",
            "Train RMSE:\t     282615.63\n",
            "Test RMSE:\t     292226.32\n",
            "----------RidgeCV Metrics----------\n",
            "Train MAE:\t     209331.53\n",
            "Test MAE:\t     206651.84\n",
            "Train RMSE::\t     282596.19\n",
            "Test RMSE:\t     292077.15\n"
          ],
          "name": "stdout"
        }
      ]
    },
    {
      "cell_type": "markdown",
      "metadata": {
        "id": "xvqsnY1FR7F2"
      },
      "source": [
        "# VI. Tune Model"
      ]
    },
    {
      "cell_type": "code",
      "metadata": {
        "colab": {
          "base_uri": "https://localhost:8080/"
        },
        "id": "5gCFAZaXR_g7",
        "outputId": "1e2780f1-a850-4635-f246-8fed6af09b7b"
      },
      "source": [
        "previous_features = set()\n",
        "# Baseline metrics to compare to best model\n",
        "min_MAE = min(mean_absolute_error(y_test, y_mean),\n",
        "              mean_absolute_error(y_test, y_median))\n",
        "min_RMSE = min(mean_squared_error(y_test, y_mean, squared=False),\n",
        "               mean_squared_error(y_test, y_median, squared=False))\n",
        "# Establish a best model\n",
        "best_model = model_ridge\n",
        "for num_features in range(1,len(XT_train.columns)+1):\n",
        "  # Transform data\n",
        "  feature_selector = SelectKBest(k=num_features)\n",
        "\n",
        "  # Select k best features\n",
        "  feature_selector.fit(XT_train, y_train)\n",
        "\n",
        "  # Transform data for regression\n",
        "  XTT_train = feature_selector.transform(XT_train)\n",
        "  XTT_test = feature_selector.transform(XT_test)\n",
        "  \n",
        "  # Update features\n",
        "  new_features = set(XT_train.columns[feature_selector.get_support()])\n",
        "  added_features = new_features.difference(previous_features)\n",
        "  previous_features = new_features\n",
        "\n",
        "\n",
        "  # Fit model\n",
        "  model = Ridge(alpha=2.0)\n",
        "  model.fit(XTT_train, y_train)\n",
        "\n",
        "  # Print results\n",
        "  print(60*'-')\n",
        "  print(10*'-' + f'Ridge Regression Metrics with {num_features} features' + 10*'-')\n",
        "  print('Features added:\\t', added_features)\n",
        "  display_score('Train MAE', \n",
        "                mean_absolute_error(y_train, \n",
        "                                    model.predict(XTT_train)))\n",
        "  display_score('Test MAE', \n",
        "                mean_absolute_error(y_test, \n",
        "                                    model.predict(XTT_test)))\n",
        "  display_score('Train RMSE', \n",
        "                mean_squared_error(y_train, \n",
        "                                  model.predict(XTT_train),\n",
        "                                  squared=False))\n",
        "  display_score('Test RMSE', \n",
        "                mean_squared_error(y_test, \n",
        "                                  model.predict(XTT_test),\n",
        "                                  squared=False))\n",
        "  print(60*'-')\n",
        "\n",
        "\n",
        "  # Update best model\n",
        "  current_mae = mean_absolute_error(y_test, model.predict(XTT_test))\n",
        "  current_rmse = mean_squared_error(y_test,\n",
        "                                    model.predict(XTT_test), \n",
        "                                    squared=False)\n",
        "  if current_rmse < min_RMSE:\n",
        "    best_model = model\n",
        "    best_features = new_features\n",
        "    min_RMSE = current_rmse\n",
        "  if current_mae < min_MAE:\n",
        "    min_MAE = current_mae\n"
      ],
      "execution_count": 21,
      "outputs": [
        {
          "output_type": "stream",
          "text": [
            "------------------------------------------------------------\n",
            "----------Ridge Regression Metrics with 1 features----------\n",
            "Features added:\t {'BOROUGH_1'}\n",
            "Train MAE:\t     214702.48\n",
            "Test MAE:\t     211563.09\n",
            "Train RMSE:\t     291543.82\n",
            "Test RMSE:\t     298531.70\n",
            "------------------------------------------------------------\n",
            "------------------------------------------------------------\n",
            "----------Ridge Regression Metrics with 2 features----------\n",
            "Features added:\t {'BUILDING_CLASS_AT_TIME_OF_SALE_A3'}\n",
            "Train MAE:\t     209420.27\n",
            "Test MAE:\t     206731.46\n",
            "Train RMSE:\t     282615.63\n",
            "Test RMSE:\t     292226.32\n",
            "------------------------------------------------------------\n",
            "------------------------------------------------------------\n",
            "----------Ridge Regression Metrics with 3 features----------\n",
            "Features added:\t {'BUILDING_CLASS_AT_PRESENT_A3'}\n",
            "Train MAE:\t     209341.64\n",
            "Test MAE:\t     206652.33\n",
            "Train RMSE:\t     282598.38\n",
            "Test RMSE:\t     292170.41\n",
            "------------------------------------------------------------\n",
            "------------------------------------------------------------\n",
            "----------Ridge Regression Metrics with 4 features----------\n",
            "Features added:\t {'BUILDING_CLASS_AT_TIME_OF_SALE_A6'}\n",
            "Train MAE:\t     207972.11\n",
            "Test MAE:\t     206243.71\n",
            "Train RMSE:\t     281195.60\n",
            "Test RMSE:\t     291342.71\n",
            "------------------------------------------------------------\n",
            "------------------------------------------------------------\n",
            "----------Ridge Regression Metrics with 5 features----------\n",
            "Features added:\t {'BUILDING_CLASS_AT_PRESENT_A6'}\n",
            "Train MAE:\t     207936.15\n",
            "Test MAE:\t     206216.33\n",
            "Train RMSE:\t     281179.55\n",
            "Test RMSE:\t     291308.46\n",
            "------------------------------------------------------------\n",
            "------------------------------------------------------------\n",
            "----------Ridge Regression Metrics with 6 features----------\n",
            "Features added:\t {'GROSS_SQUARE_FEET'}\n",
            "Train MAE:\t     191599.14\n",
            "Test MAE:\t     182408.92\n",
            "Train RMSE:\t     258040.51\n",
            "Test RMSE:\t     261202.20\n",
            "------------------------------------------------------------\n",
            "------------------------------------------------------------\n",
            "----------Ridge Regression Metrics with 7 features----------\n",
            "Features added:\t {'COMMERCIAL_UNITS'}\n",
            "Train MAE:\t     191166.87\n",
            "Test MAE:\t     183089.16\n",
            "Train RMSE:\t     257442.25\n",
            "Test RMSE:\t     262219.42\n",
            "------------------------------------------------------------\n",
            "------------------------------------------------------------\n",
            "----------Ridge Regression Metrics with 8 features----------\n",
            "Features added:\t {'TOTAL_UNITS'}\n",
            "Train MAE:\t     190914.11\n",
            "Test MAE:\t     183444.98\n",
            "Train RMSE:\t     257336.13\n",
            "Test RMSE:\t     262417.81\n",
            "------------------------------------------------------------\n",
            "------------------------------------------------------------\n",
            "----------Ridge Regression Metrics with 9 features----------\n",
            "Features added:\t {'BUILDING_CLASS_AT_TIME_OF_SALE_A8'}\n",
            "Train MAE:\t     190873.50\n",
            "Test MAE:\t     183400.73\n",
            "Train RMSE:\t     257329.64\n",
            "Test RMSE:\t     262433.43\n",
            "------------------------------------------------------------\n",
            "------------------------------------------------------------\n",
            "----------Ridge Regression Metrics with 10 features----------\n",
            "Features added:\t {'BUILDING_CLASS_AT_PRESENT_A8'}\n",
            "Train MAE:\t     190865.72\n",
            "Test MAE:\t     183390.77\n",
            "Train RMSE:\t     257328.97\n",
            "Test RMSE:\t     262442.75\n",
            "------------------------------------------------------------\n",
            "------------------------------------------------------------\n",
            "----------Ridge Regression Metrics with 11 features----------\n",
            "Features added:\t {'TAX_CLASS_AT_PRESENT_1D'}\n",
            "Train MAE:\t     190862.60\n",
            "Test MAE:\t     183386.37\n",
            "Train RMSE:\t     257328.77\n",
            "Test RMSE:\t     262447.55\n",
            "------------------------------------------------------------\n",
            "------------------------------------------------------------\n",
            "----------Ridge Regression Metrics with 12 features----------\n",
            "Features added:\t {'RESIDENTIAL_UNITS'}\n",
            "Train MAE:\t     190861.12\n",
            "Test MAE:\t     183431.04\n",
            "Train RMSE:\t     257328.68\n",
            "Test RMSE:\t     262469.53\n",
            "------------------------------------------------------------\n",
            "------------------------------------------------------------\n",
            "----------Ridge Regression Metrics with 13 features----------\n",
            "Features added:\t {'TAX_CLASS_AT_PRESENT_1'}\n",
            "Train MAE:\t     190860.17\n",
            "Test MAE:\t     183421.01\n",
            "Train RMSE:\t     257328.63\n",
            "Test RMSE:\t     262467.21\n",
            "------------------------------------------------------------\n",
            "------------------------------------------------------------\n",
            "----------Ridge Regression Metrics with 14 features----------\n",
            "Features added:\t {'NEIGHBORHOOD_SOUTH OZONE PARK'}\n",
            "Train MAE:\t     190851.84\n",
            "Test MAE:\t     183205.84\n",
            "Train RMSE:\t     257273.75\n",
            "Test RMSE:\t     262416.01\n",
            "------------------------------------------------------------\n",
            "------------------------------------------------------------\n",
            "----------Ridge Regression Metrics with 15 features----------\n",
            "Features added:\t {'ZIP_CODE'}\n",
            "Train MAE:\t     182177.54\n",
            "Test MAE:\t     182368.92\n",
            "Train RMSE:\t     247689.59\n",
            "Test RMSE:\t     258109.03\n",
            "------------------------------------------------------------\n",
            "------------------------------------------------------------\n",
            "----------Ridge Regression Metrics with 16 features----------\n",
            "Features added:\t {'BUILDING_CLASS_AT_TIME_OF_SALE_A4'}\n",
            "Train MAE:\t     182003.63\n",
            "Test MAE:\t     182434.41\n",
            "Train RMSE:\t     247533.69\n",
            "Test RMSE:\t     258087.03\n",
            "------------------------------------------------------------\n",
            "------------------------------------------------------------\n",
            "----------Ridge Regression Metrics with 17 features----------\n",
            "Features added:\t {'BUILDING_CLASS_AT_PRESENT_A4'}\n",
            "Train MAE:\t     181991.05\n",
            "Test MAE:\t     182445.07\n",
            "Train RMSE:\t     247531.51\n",
            "Test RMSE:\t     258093.55\n",
            "------------------------------------------------------------\n",
            "------------------------------------------------------------\n",
            "----------Ridge Regression Metrics with 18 features----------\n",
            "Features added:\t {'BOROUGH_5'}\n",
            "Train MAE:\t     181720.79\n",
            "Test MAE:\t     182618.81\n",
            "Train RMSE:\t     247513.60\n",
            "Test RMSE:\t     258365.68\n",
            "------------------------------------------------------------\n",
            "------------------------------------------------------------\n",
            "----------Ridge Regression Metrics with 19 features----------\n",
            "Features added:\t {'BUILDING_CLASS_AT_PRESENT_A5'}\n",
            "Train MAE:\t     181655.50\n",
            "Test MAE:\t     183515.48\n",
            "Train RMSE:\t     247182.20\n",
            "Test RMSE:\t     258828.24\n",
            "------------------------------------------------------------\n",
            "------------------------------------------------------------\n",
            "----------Ridge Regression Metrics with 20 features----------\n",
            "Features added:\t {'BUILDING_CLASS_AT_TIME_OF_SALE_A5'}\n",
            "Train MAE:\t     181649.69\n",
            "Test MAE:\t     183513.21\n",
            "Train RMSE:\t     247181.31\n",
            "Test RMSE:\t     258827.00\n",
            "------------------------------------------------------------\n",
            "------------------------------------------------------------\n",
            "----------Ridge Regression Metrics with 21 features----------\n",
            "Features added:\t {'NEIGHBORHOOD_ST. ALBANS'}\n",
            "Train MAE:\t     179017.21\n",
            "Test MAE:\t     184488.92\n",
            "Train RMSE:\t     243924.82\n",
            "Test RMSE:\t     259710.93\n",
            "------------------------------------------------------------\n",
            "------------------------------------------------------------\n",
            "----------Ridge Regression Metrics with 22 features----------\n",
            "Features added:\t {'NEIGHBORHOOD_BAYSIDE'}\n",
            "Train MAE:\t     177282.29\n",
            "Test MAE:\t     181948.93\n",
            "Train RMSE:\t     242921.40\n",
            "Test RMSE:\t     258273.64\n",
            "------------------------------------------------------------\n",
            "------------------------------------------------------------\n",
            "----------Ridge Regression Metrics with 23 features----------\n",
            "Features added:\t {'BUILDING_CLASS_AT_TIME_OF_SALE_S1'}\n",
            "Train MAE:\t     177087.84\n",
            "Test MAE:\t     181744.80\n",
            "Train RMSE:\t     242342.45\n",
            "Test RMSE:\t     257909.45\n",
            "------------------------------------------------------------\n",
            "------------------------------------------------------------\n",
            "----------Ridge Regression Metrics with 24 features----------\n",
            "Features added:\t {'BUILDING_CLASS_AT_PRESENT_S1'}\n",
            "Train MAE:\t     177052.54\n",
            "Test MAE:\t     181709.42\n",
            "Train RMSE:\t     242281.90\n",
            "Test RMSE:\t     257853.46\n",
            "------------------------------------------------------------\n",
            "------------------------------------------------------------\n",
            "----------Ridge Regression Metrics with 25 features----------\n",
            "Features added:\t {'BOROUGH_4'}\n",
            "Train MAE:\t     176808.00\n",
            "Test MAE:\t     182219.38\n",
            "Train RMSE:\t     240629.49\n",
            "Test RMSE:\t     255616.18\n",
            "------------------------------------------------------------\n",
            "------------------------------------------------------------\n",
            "----------Ridge Regression Metrics with 26 features----------\n",
            "Features added:\t {'BOROUGH_3'}\n",
            "Train MAE:\t     168559.09\n",
            "Test MAE:\t     174452.37\n",
            "Train RMSE:\t     230845.25\n",
            "Test RMSE:\t     246013.80\n",
            "------------------------------------------------------------\n",
            "------------------------------------------------------------\n",
            "----------Ridge Regression Metrics with 27 features----------\n",
            "Features added:\t {'LAND_SQUARE_FEET'}\n",
            "Train MAE:\t     164723.58\n",
            "Test MAE:\t     169866.88\n",
            "Train RMSE:\t     227321.81\n",
            "Test RMSE:\t     238964.79\n",
            "------------------------------------------------------------\n",
            "------------------------------------------------------------\n",
            "----------Ridge Regression Metrics with 28 features----------\n",
            "Features added:\t {'BOROUGH_2'}\n",
            "Train MAE:\t     164398.84\n",
            "Test MAE:\t     169717.61\n",
            "Train RMSE:\t     227004.75\n",
            "Test RMSE:\t     238322.23\n",
            "------------------------------------------------------------\n",
            "------------------------------------------------------------\n",
            "----------Ridge Regression Metrics with 29 features----------\n",
            "Features added:\t {'NEIGHBORHOOD_FLUSHING-NORTH'}\n",
            "Train MAE:\t     160937.30\n",
            "Test MAE:\t     166700.32\n",
            "Train RMSE:\t     224814.41\n",
            "Test RMSE:\t     237673.48\n",
            "------------------------------------------------------------\n",
            "------------------------------------------------------------\n",
            "----------Ridge Regression Metrics with 30 features----------\n",
            "Features added:\t {'NEIGHBORHOOD_OTHER'}\n",
            "Train MAE:\t     159869.22\n",
            "Test MAE:\t     165118.63\n",
            "Train RMSE:\t     223535.43\n",
            "Test RMSE:\t     235364.70\n",
            "------------------------------------------------------------\n",
            "------------------------------------------------------------\n",
            "----------Ridge Regression Metrics with 31 features----------\n",
            "Features added:\t {'BUILDING_CLASS_AT_TIME_OF_SALE_A1'}\n",
            "Train MAE:\t     159864.19\n",
            "Test MAE:\t     165157.11\n",
            "Train RMSE:\t     223528.04\n",
            "Test RMSE:\t     235332.21\n",
            "------------------------------------------------------------\n",
            "------------------------------------------------------------\n",
            "----------Ridge Regression Metrics with 32 features----------\n",
            "Features added:\t {'BUILDING_CLASS_AT_PRESENT_A1'}\n",
            "Train MAE:\t     159864.19\n",
            "Test MAE:\t     165159.70\n",
            "Train RMSE:\t     223528.03\n",
            "Test RMSE:\t     235333.99\n",
            "------------------------------------------------------------\n",
            "------------------------------------------------------------\n",
            "----------Ridge Regression Metrics with 33 features----------\n",
            "Features added:\t {'NEIGHBORHOOD_SPRINGFIELD GARDENS'}\n",
            "Train MAE:\t     159200.63\n",
            "Test MAE:\t     165904.54\n",
            "Train RMSE:\t     223066.97\n",
            "Test RMSE:\t     235551.95\n",
            "------------------------------------------------------------\n",
            "------------------------------------------------------------\n",
            "----------Ridge Regression Metrics with 34 features----------\n",
            "Features added:\t {'NEIGHBORHOOD_GREAT KILLS'}\n",
            "Train MAE:\t     157926.62\n",
            "Test MAE:\t     165713.68\n",
            "Train RMSE:\t     222141.17\n",
            "Test RMSE:\t     234944.45\n",
            "------------------------------------------------------------\n",
            "------------------------------------------------------------\n",
            "----------Ridge Regression Metrics with 35 features----------\n",
            "Features added:\t {'NEIGHBORHOOD_LAURELTON'}\n",
            "Train MAE:\t     157724.60\n",
            "Test MAE:\t     164986.51\n",
            "Train RMSE:\t     221730.65\n",
            "Test RMSE:\t     234334.75\n",
            "------------------------------------------------------------\n",
            "------------------------------------------------------------\n",
            "----------Ridge Regression Metrics with 36 features----------\n",
            "Features added:\t {'NEIGHBORHOOD_FLUSHING-SOUTH'}\n",
            "Train MAE:\t     156045.04\n",
            "Test MAE:\t     163015.18\n",
            "Train RMSE:\t     219850.79\n",
            "Test RMSE:\t     233011.65\n",
            "------------------------------------------------------------\n",
            "------------------------------------------------------------\n",
            "----------Ridge Regression Metrics with 37 features----------\n",
            "Features added:\t {'NEIGHBORHOOD_SO. JAMAICA-BAISLEY PARK'}\n",
            "Train MAE:\t     156044.40\n",
            "Test MAE:\t     162970.38\n",
            "Train RMSE:\t     219861.58\n",
            "Test RMSE:\t     233022.08\n",
            "------------------------------------------------------------\n",
            "------------------------------------------------------------\n",
            "----------Ridge Regression Metrics with 38 features----------\n",
            "Features added:\t {'BUILDING_CLASS_AT_TIME_OF_SALE_A0'}\n",
            "Train MAE:\t     156044.70\n",
            "Test MAE:\t     162969.77\n",
            "Train RMSE:\t     219856.09\n",
            "Test RMSE:\t     233032.67\n",
            "------------------------------------------------------------\n",
            "------------------------------------------------------------\n",
            "----------Ridge Regression Metrics with 39 features----------\n",
            "Features added:\t {'BUILDING_CLASS_AT_PRESENT_A0'}\n",
            "Train MAE:\t     156044.75\n",
            "Test MAE:\t     162969.76\n",
            "Train RMSE:\t     219856.02\n",
            "Test RMSE:\t     233032.88\n",
            "------------------------------------------------------------\n",
            "------------------------------------------------------------\n",
            "----------Ridge Regression Metrics with 40 features----------\n",
            "Features added:\t {'BUILDING_CLASS_AT_TIME_OF_SALE_A2'}\n",
            "Train MAE:\t     156116.03\n",
            "Test MAE:\t     163044.67\n",
            "Train RMSE:\t     219826.26\n",
            "Test RMSE:\t     233013.54\n",
            "------------------------------------------------------------\n",
            "------------------------------------------------------------\n",
            "----------Ridge Regression Metrics with 41 features----------\n",
            "Features added:\t {'BUILDING_CLASS_AT_PRESENT_A2'}\n",
            "Train MAE:\t     156096.79\n",
            "Test MAE:\t     163047.26\n",
            "Train RMSE:\t     219769.22\n",
            "Test RMSE:\t     233026.67\n",
            "------------------------------------------------------------\n",
            "------------------------------------------------------------\n",
            "----------Ridge Regression Metrics with 42 features----------\n",
            "Features added:\t {'BUILDING_CLASS_AT_TIME_OF_SALE_A9'}\n",
            "Train MAE:\t     156075.36\n",
            "Test MAE:\t     163034.84\n",
            "Train RMSE:\t     219742.20\n",
            "Test RMSE:\t     232975.06\n",
            "------------------------------------------------------------\n",
            "------------------------------------------------------------\n",
            "----------Ridge Regression Metrics with 43 features----------\n",
            "Features added:\t {'BUILDING_CLASS_AT_PRESENT_A9'}\n",
            "Train MAE:\t     156073.02\n",
            "Test MAE:\t     163033.47\n",
            "Train RMSE:\t     219739.63\n",
            "Test RMSE:\t     232970.15\n",
            "------------------------------------------------------------\n",
            "------------------------------------------------------------\n",
            "----------Ridge Regression Metrics with 44 features----------\n",
            "Features added:\t {'NEIGHBORHOOD_QUEENS VILLAGE'}\n",
            "Train MAE:\t     156144.88\n",
            "Test MAE:\t     163055.36\n",
            "Train RMSE:\t     219696.93\n",
            "Test RMSE:\t     232816.11\n",
            "------------------------------------------------------------\n",
            "------------------------------------------------------------\n",
            "----------Ridge Regression Metrics with 45 features----------\n",
            "Features added:\t {'BUILDING_CLASS_AT_PRESENT_B2'}\n",
            "Train MAE:\t     156143.40\n",
            "Test MAE:\t     163046.19\n",
            "Train RMSE:\t     219697.13\n",
            "Test RMSE:\t     232810.38\n",
            "------------------------------------------------------------\n",
            "------------------------------------------------------------\n",
            "----------Ridge Regression Metrics with 46 features----------\n",
            "Features added:\t {'TAX_CLASS_AT_TIME_OF_SALE'}\n",
            "Train MAE:\t     156143.40\n",
            "Test MAE:\t     163046.19\n",
            "Train RMSE:\t     219697.13\n",
            "Test RMSE:\t     232810.38\n",
            "------------------------------------------------------------\n",
            "------------------------------------------------------------\n",
            "----------Ridge Regression Metrics with 47 features----------\n",
            "Features added:\t {'BUILDING_CLASS_CATEGORY_01 ONE FAMILY DWELLINGS'}\n",
            "Train MAE:\t     156143.40\n",
            "Test MAE:\t     163046.19\n",
            "Train RMSE:\t     219697.13\n",
            "Test RMSE:\t     232810.38\n",
            "------------------------------------------------------------\n"
          ],
          "name": "stdout"
        }
      ]
    },
    {
      "cell_type": "code",
      "metadata": {
        "colab": {
          "base_uri": "https://localhost:8080/"
        },
        "id": "igumMBQDa7kI",
        "outputId": "3c86294a-ab12-488c-bbe4-41ec2b5379db"
      },
      "source": [
        "min_RMSE"
      ],
      "execution_count": 22,
      "outputs": [
        {
          "output_type": "execute_result",
          "data": {
            "text/plain": [
              "232810.38391252127"
            ]
          },
          "metadata": {
            "tags": []
          },
          "execution_count": 22
        }
      ]
    },
    {
      "cell_type": "markdown",
      "metadata": {
        "id": "MPn0BNrKRy_c"
      },
      "source": [
        "# VII. Communicate Results\n"
      ]
    },
    {
      "cell_type": "code",
      "metadata": {
        "colab": {
          "base_uri": "https://localhost:8080/"
        },
        "id": "5jxvJ3Gdyrrw",
        "outputId": "36796a0a-d100-4fb0-8728-12a49ac0fa19"
      },
      "source": [
        "print(best_model.coef_)\n",
        "print(best_model.intercept_)"
      ],
      "execution_count": 30,
      "outputs": [
        {
          "output_type": "stream",
          "text": [
            "[-3.09652387e+05  3.33404812e+05  3.09375800e+05 -3.47342632e+05\n",
            "  1.42144073e+04  4.75584543e+04  1.54389422e+05 -1.05313675e+05\n",
            " -8.75901897e+04 -1.22727711e+05  1.63713703e+05  2.05225265e+05\n",
            " -1.37528961e+05 -3.66564517e+04 -1.77963175e+05  9.68933187e+04\n",
            " -5.50263285e+04  5.50263285e+04 -2.69344858e+04 -1.06530184e+05\n",
            " -5.06109044e+04 -3.90634827e+04  5.50263285e+04 -3.40397769e+04\n",
            "  6.02005465e+03 -1.45829665e+05 -7.86539602e+04  3.92045347e+03\n",
            "  6.48446806e+04 -4.43076458e+02 -5.50263285e+04  1.85101788e+05\n",
            "  1.30075460e+05  2.80170732e+01  1.68701456e+02  0.00000000e+00\n",
            " -2.69344858e+04  4.43169771e+04 -9.05279588e+03 -3.90634827e+04\n",
            "  5.50263285e+04 -3.40397769e+04 -1.45829665e+05 -7.86539602e+04\n",
            "  3.92045347e+03  6.48446806e+04]\n",
            "5073601.359277787\n"
          ],
          "name": "stdout"
        }
      ]
    },
    {
      "cell_type": "code",
      "metadata": {
        "colab": {
          "base_uri": "https://localhost:8080/"
        },
        "id": "HVzjTXymy8K2",
        "outputId": "8b323514-b239-49c1-ec25-5e42a99c0bac"
      },
      "source": [
        "print('-'*20 + 'model coefficients' + '-'*20)\n",
        "print((' '*24 + 'Intercept: {:>10.2f}').format(best_model.intercept_))\n",
        "for feature, coef in zip(best_features, best_model.coef_):\n",
        "  print((' '*(40-len(feature))+feature+': {:>10.2f}').format(coef))\n",
        "print(f'{len(best_model.coef_)} features')"
      ],
      "execution_count": 33,
      "outputs": [
        {
          "output_type": "stream",
          "text": [
            "--------------------model coefficients--------------------\n",
            "                        Intercept: 5073601.36\n",
            "            BUILDING_CLASS_AT_PRESENT_A6: -309652.39\n",
            "            BUILDING_CLASS_AT_PRESENT_A2:  333404.81\n",
            "   NEIGHBORHOOD_SO. JAMAICA-BAISLEY PARK:  309375.80\n",
            "               TAX_CLASS_AT_TIME_OF_SALE: -347342.63\n",
            "                  NEIGHBORHOOD_LAURELTON:   14214.41\n",
            "       BUILDING_CLASS_AT_TIME_OF_SALE_A3:   47558.45\n",
            "           NEIGHBORHOOD_SOUTH OZONE PARK:  154389.42\n",
            "                    NEIGHBORHOOD_BAYSIDE: -105313.67\n",
            "       BUILDING_CLASS_AT_TIME_OF_SALE_A4:  -87590.19\n",
            "       BUILDING_CLASS_AT_TIME_OF_SALE_A9: -122727.71\n",
            "                        LAND_SQUARE_FEET:  163713.70\n",
            "       BUILDING_CLASS_AT_TIME_OF_SALE_A5:  205225.27\n",
            "            BUILDING_CLASS_AT_PRESENT_A9: -137528.96\n",
            "                        COMMERCIAL_UNITS:  -36656.45\n",
            "            BUILDING_CLASS_AT_PRESENT_S1: -177963.17\n",
            "                               BOROUGH_1:   96893.32\n",
            "            BUILDING_CLASS_AT_PRESENT_A4:  -55026.33\n",
            "             NEIGHBORHOOD_FLUSHING-NORTH:   55026.33\n",
            "                       GROSS_SQUARE_FEET:  -26934.49\n",
            "       BUILDING_CLASS_AT_TIME_OF_SALE_A8: -106530.18\n",
            "       BUILDING_CLASS_AT_TIME_OF_SALE_A0:  -50610.90\n",
            "                NEIGHBORHOOD_GREAT KILLS:  -39063.48\n",
            "             NEIGHBORHOOD_FLUSHING-SOUTH:   55026.33\n",
            "                             TOTAL_UNITS:  -34039.78\n",
            "                               BOROUGH_5:    6020.05\n",
            "                               BOROUGH_4: -145829.66\n",
            "                               BOROUGH_2:  -78653.96\n",
            "            BUILDING_CLASS_AT_PRESENT_A5:    3920.45\n",
            "                 NEIGHBORHOOD_ST. ALBANS:   64844.68\n",
            "                 TAX_CLASS_AT_PRESENT_1D:    -443.08\n",
            "            BUILDING_CLASS_AT_PRESENT_A1:  -55026.33\n",
            "             NEIGHBORHOOD_QUEENS VILLAGE:  185101.79\n",
            "            BUILDING_CLASS_AT_PRESENT_B2:  130075.46\n",
            "                                ZIP_CODE:      28.02\n",
            "                               BOROUGH_3:     168.70\n",
            "        NEIGHBORHOOD_SPRINGFIELD GARDENS:       0.00\n",
            "       BUILDING_CLASS_AT_TIME_OF_SALE_S1:  -26934.49\n",
            "            BUILDING_CLASS_AT_PRESENT_A8:   44316.98\n",
            "       BUILDING_CLASS_AT_TIME_OF_SALE_A6:   -9052.80\n",
            "       BUILDING_CLASS_AT_TIME_OF_SALE_A1:  -39063.48\n",
            "                  TAX_CLASS_AT_PRESENT_1:   55026.33\n",
            "                       RESIDENTIAL_UNITS:  -34039.78\n",
            "       BUILDING_CLASS_AT_TIME_OF_SALE_A2: -145829.66\n",
            "                      NEIGHBORHOOD_OTHER:  -78653.96\n",
            "            BUILDING_CLASS_AT_PRESENT_A0:    3920.45\n",
            "            BUILDING_CLASS_AT_PRESENT_A3:   64844.68\n",
            "46 features\n"
          ],
          "name": "stdout"
        }
      ]
    },
    {
      "cell_type": "code",
      "metadata": {
        "id": "vYXeh5bfcwG1"
      },
      "source": [
        ""
      ],
      "execution_count": null,
      "outputs": []
    }
  ]
}